{
 "cells": [
  {
   "cell_type": "code",
   "execution_count": 2,
   "metadata": {},
   "outputs": [],
   "source": [
    "from elasticsearch import Elasticsearch"
   ]
  },
  {
   "cell_type": "code",
   "execution_count": 3,
   "metadata": {},
   "outputs": [
    {
     "data": {
      "text/plain": [
       "True"
      ]
     },
     "execution_count": 3,
     "metadata": {},
     "output_type": "execute_result"
    }
   ],
   "source": [
    "es = Elasticsearch(\n",
    "    \"https://localhost:9200\",\n",
    "    basic_auth=(\"elastic\",\"pDjStGnelbMpjssD9QqR\"),\n",
    "    ca_certs = \"/Users/someshs/Desktop/internship workspace 2024/elasticsearch-8.15.2/config/certs/http_ca.crt\"\n",
    "\n",
    ")\n",
    "es.ping()"
   ]
  },
  {
   "cell_type": "markdown",
   "metadata": {},
   "source": [
    "## prepare the data"
   ]
  },
  {
   "cell_type": "code",
   "execution_count": 4,
   "metadata": {},
   "outputs": [
    {
     "data": {
      "text/html": [
       "<div>\n",
       "<style scoped>\n",
       "    .dataframe tbody tr th:only-of-type {\n",
       "        vertical-align: middle;\n",
       "    }\n",
       "\n",
       "    .dataframe tbody tr th {\n",
       "        vertical-align: top;\n",
       "    }\n",
       "\n",
       "    .dataframe thead th {\n",
       "        text-align: right;\n",
       "    }\n",
       "</style>\n",
       "<table border=\"1\" class=\"dataframe\">\n",
       "  <thead>\n",
       "    <tr style=\"text-align: right;\">\n",
       "      <th></th>\n",
       "      <th>ProductID</th>\n",
       "      <th>ProductName</th>\n",
       "      <th>ProductBrand</th>\n",
       "      <th>Gender</th>\n",
       "      <th>Price (INR)</th>\n",
       "      <th>NumImages</th>\n",
       "      <th>Description</th>\n",
       "      <th>PrimaryColor</th>\n",
       "    </tr>\n",
       "  </thead>\n",
       "  <tbody>\n",
       "    <tr>\n",
       "      <th>0</th>\n",
       "      <td>10017413</td>\n",
       "      <td>DKNY Unisex Black &amp; Grey Printed Medium Trolle...</td>\n",
       "      <td>DKNY</td>\n",
       "      <td>Unisex</td>\n",
       "      <td>11745</td>\n",
       "      <td>7</td>\n",
       "      <td>Black and grey printed medium trolley bag, sec...</td>\n",
       "      <td>Black</td>\n",
       "    </tr>\n",
       "    <tr>\n",
       "      <th>1</th>\n",
       "      <td>10016283</td>\n",
       "      <td>EthnoVogue Women Beige &amp; Grey Made to Measure ...</td>\n",
       "      <td>EthnoVogue</td>\n",
       "      <td>Women</td>\n",
       "      <td>5810</td>\n",
       "      <td>7</td>\n",
       "      <td>Beige &amp; Grey made to measure kurta with churid...</td>\n",
       "      <td>Beige</td>\n",
       "    </tr>\n",
       "    <tr>\n",
       "      <th>2</th>\n",
       "      <td>10009781</td>\n",
       "      <td>SPYKAR Women Pink Alexa Super Skinny Fit High-...</td>\n",
       "      <td>SPYKAR</td>\n",
       "      <td>Women</td>\n",
       "      <td>899</td>\n",
       "      <td>7</td>\n",
       "      <td>Pink coloured wash 5-pocket high-rise cropped ...</td>\n",
       "      <td>Pink</td>\n",
       "    </tr>\n",
       "    <tr>\n",
       "      <th>3</th>\n",
       "      <td>10015921</td>\n",
       "      <td>Raymond Men Blue Self-Design Single-Breasted B...</td>\n",
       "      <td>Raymond</td>\n",
       "      <td>Men</td>\n",
       "      <td>5599</td>\n",
       "      <td>5</td>\n",
       "      <td>Blue self-design bandhgala suitBlue self-desig...</td>\n",
       "      <td>Blue</td>\n",
       "    </tr>\n",
       "    <tr>\n",
       "      <th>4</th>\n",
       "      <td>10017833</td>\n",
       "      <td>Parx Men Brown &amp; Off-White Slim Fit Printed Ca...</td>\n",
       "      <td>Parx</td>\n",
       "      <td>Men</td>\n",
       "      <td>759</td>\n",
       "      <td>5</td>\n",
       "      <td>Brown and off-white printed casual shirt, has ...</td>\n",
       "      <td>White</td>\n",
       "    </tr>\n",
       "  </tbody>\n",
       "</table>\n",
       "</div>"
      ],
      "text/plain": [
       "   ProductID                                        ProductName ProductBrand  \\\n",
       "0   10017413  DKNY Unisex Black & Grey Printed Medium Trolle...         DKNY   \n",
       "1   10016283  EthnoVogue Women Beige & Grey Made to Measure ...   EthnoVogue   \n",
       "2   10009781  SPYKAR Women Pink Alexa Super Skinny Fit High-...       SPYKAR   \n",
       "3   10015921  Raymond Men Blue Self-Design Single-Breasted B...      Raymond   \n",
       "4   10017833  Parx Men Brown & Off-White Slim Fit Printed Ca...         Parx   \n",
       "\n",
       "   Gender  Price (INR)  NumImages  \\\n",
       "0  Unisex        11745          7   \n",
       "1   Women         5810          7   \n",
       "2   Women          899          7   \n",
       "3     Men         5599          5   \n",
       "4     Men          759          5   \n",
       "\n",
       "                                         Description PrimaryColor  \n",
       "0  Black and grey printed medium trolley bag, sec...        Black  \n",
       "1  Beige & Grey made to measure kurta with churid...        Beige  \n",
       "2  Pink coloured wash 5-pocket high-rise cropped ...         Pink  \n",
       "3  Blue self-design bandhgala suitBlue self-desig...         Blue  \n",
       "4  Brown and off-white printed casual shirt, has ...        White  "
      ]
     },
     "execution_count": 4,
     "metadata": {},
     "output_type": "execute_result"
    }
   ],
   "source": [
    "import pandas as pd\n",
    "\n",
    "df = pd.read_csv(\"myntra_products_catalog.csv\").loc[:499]\n",
    "df.head()\n"
   ]
  },
  {
   "cell_type": "markdown",
   "metadata": {},
   "source": [
    "## convert the relevant field to a vector using BERT model\n"
   ]
  },
  {
   "cell_type": "code",
   "execution_count": 5,
   "metadata": {},
   "outputs": [
    {
     "data": {
      "text/plain": [
       "ProductID  ProductName  ProductBrand  Gender  Price (INR)  NumImages  Description  PrimaryColor\n",
       "False      False        False         False   False        False      False        False           468\n",
       "                                                                                   True             32\n",
       "Name: count, dtype: int64"
      ]
     },
     "execution_count": 5,
     "metadata": {},
     "output_type": "execute_result"
    }
   ],
   "source": [
    "df.isna().value_counts()"
   ]
  },
  {
   "cell_type": "code",
   "execution_count": 6,
   "metadata": {},
   "outputs": [],
   "source": [
    "df.fillna(\"None\",inplace = True)"
   ]
  },
  {
   "cell_type": "code",
   "execution_count": 7,
   "metadata": {},
   "outputs": [
    {
     "name": "stderr",
     "output_type": "stream",
     "text": [
      "/Users/someshs/Desktop/internship workspace 2024/venv/lib/python3.10/site-packages/sentence_transformers/cross_encoder/CrossEncoder.py:13: TqdmWarning: IProgress not found. Please update jupyter and ipywidgets. See https://ipywidgets.readthedocs.io/en/stable/user_install.html\n",
      "  from tqdm.autonotebook import tqdm, trange\n",
      "/Users/someshs/Desktop/internship workspace 2024/venv/lib/python3.10/site-packages/transformers/tokenization_utils_base.py:1617: FutureWarning: `clean_up_tokenization_spaces` was not set. It will be set to `True` by default. This behavior will be deprecated in transformers v4.45, and will be then set to `False` by default. For more details check this issue: https://github.com/huggingface/transformers/issues/31884\n",
      "  warnings.warn(\n"
     ]
    }
   ],
   "source": [
    "from sentence_transformers import SentenceTransformer\n",
    "model = SentenceTransformer(\"all-mpnet-base-v2\")\n"
   ]
  },
  {
   "cell_type": "code",
   "execution_count": 8,
   "metadata": {},
   "outputs": [],
   "source": [
    "df[\"DescriptionVector\"] = df[\"Description\"].apply(lambda x: model.encode(x))"
   ]
  },
  {
   "cell_type": "code",
   "execution_count": 9,
   "metadata": {},
   "outputs": [
    {
     "data": {
      "text/html": [
       "<div>\n",
       "<style scoped>\n",
       "    .dataframe tbody tr th:only-of-type {\n",
       "        vertical-align: middle;\n",
       "    }\n",
       "\n",
       "    .dataframe tbody tr th {\n",
       "        vertical-align: top;\n",
       "    }\n",
       "\n",
       "    .dataframe thead th {\n",
       "        text-align: right;\n",
       "    }\n",
       "</style>\n",
       "<table border=\"1\" class=\"dataframe\">\n",
       "  <thead>\n",
       "    <tr style=\"text-align: right;\">\n",
       "      <th></th>\n",
       "      <th>ProductID</th>\n",
       "      <th>ProductName</th>\n",
       "      <th>ProductBrand</th>\n",
       "      <th>Gender</th>\n",
       "      <th>Price (INR)</th>\n",
       "      <th>NumImages</th>\n",
       "      <th>Description</th>\n",
       "      <th>PrimaryColor</th>\n",
       "      <th>DescriptionVector</th>\n",
       "    </tr>\n",
       "  </thead>\n",
       "  <tbody>\n",
       "    <tr>\n",
       "      <th>0</th>\n",
       "      <td>10017413</td>\n",
       "      <td>DKNY Unisex Black &amp; Grey Printed Medium Trolle...</td>\n",
       "      <td>DKNY</td>\n",
       "      <td>Unisex</td>\n",
       "      <td>11745</td>\n",
       "      <td>7</td>\n",
       "      <td>Black and grey printed medium trolley bag, sec...</td>\n",
       "      <td>Black</td>\n",
       "      <td>[0.027645748, -0.0026341842, -0.0035884231, 0....</td>\n",
       "    </tr>\n",
       "    <tr>\n",
       "      <th>1</th>\n",
       "      <td>10016283</td>\n",
       "      <td>EthnoVogue Women Beige &amp; Grey Made to Measure ...</td>\n",
       "      <td>EthnoVogue</td>\n",
       "      <td>Women</td>\n",
       "      <td>5810</td>\n",
       "      <td>7</td>\n",
       "      <td>Beige &amp; Grey made to measure kurta with churid...</td>\n",
       "      <td>Beige</td>\n",
       "      <td>[-0.024660734, -0.028755423, -0.020332452, 0.0...</td>\n",
       "    </tr>\n",
       "    <tr>\n",
       "      <th>2</th>\n",
       "      <td>10009781</td>\n",
       "      <td>SPYKAR Women Pink Alexa Super Skinny Fit High-...</td>\n",
       "      <td>SPYKAR</td>\n",
       "      <td>Women</td>\n",
       "      <td>899</td>\n",
       "      <td>7</td>\n",
       "      <td>Pink coloured wash 5-pocket high-rise cropped ...</td>\n",
       "      <td>Pink</td>\n",
       "      <td>[-0.046943296, 0.08182791, 0.048335195, -0.000...</td>\n",
       "    </tr>\n",
       "    <tr>\n",
       "      <th>3</th>\n",
       "      <td>10015921</td>\n",
       "      <td>Raymond Men Blue Self-Design Single-Breasted B...</td>\n",
       "      <td>Raymond</td>\n",
       "      <td>Men</td>\n",
       "      <td>5599</td>\n",
       "      <td>5</td>\n",
       "      <td>Blue self-design bandhgala suitBlue self-desig...</td>\n",
       "      <td>Blue</td>\n",
       "      <td>[-0.0150987785, -0.0102855, 0.00948732, -0.023...</td>\n",
       "    </tr>\n",
       "    <tr>\n",
       "      <th>4</th>\n",
       "      <td>10017833</td>\n",
       "      <td>Parx Men Brown &amp; Off-White Slim Fit Printed Ca...</td>\n",
       "      <td>Parx</td>\n",
       "      <td>Men</td>\n",
       "      <td>759</td>\n",
       "      <td>5</td>\n",
       "      <td>Brown and off-white printed casual shirt, has ...</td>\n",
       "      <td>White</td>\n",
       "      <td>[-0.017746517, 0.0062095528, 0.02181398, 0.026...</td>\n",
       "    </tr>\n",
       "  </tbody>\n",
       "</table>\n",
       "</div>"
      ],
      "text/plain": [
       "   ProductID                                        ProductName ProductBrand  \\\n",
       "0   10017413  DKNY Unisex Black & Grey Printed Medium Trolle...         DKNY   \n",
       "1   10016283  EthnoVogue Women Beige & Grey Made to Measure ...   EthnoVogue   \n",
       "2   10009781  SPYKAR Women Pink Alexa Super Skinny Fit High-...       SPYKAR   \n",
       "3   10015921  Raymond Men Blue Self-Design Single-Breasted B...      Raymond   \n",
       "4   10017833  Parx Men Brown & Off-White Slim Fit Printed Ca...         Parx   \n",
       "\n",
       "   Gender  Price (INR)  NumImages  \\\n",
       "0  Unisex        11745          7   \n",
       "1   Women         5810          7   \n",
       "2   Women          899          7   \n",
       "3     Men         5599          5   \n",
       "4     Men          759          5   \n",
       "\n",
       "                                         Description PrimaryColor  \\\n",
       "0  Black and grey printed medium trolley bag, sec...        Black   \n",
       "1  Beige & Grey made to measure kurta with churid...        Beige   \n",
       "2  Pink coloured wash 5-pocket high-rise cropped ...         Pink   \n",
       "3  Blue self-design bandhgala suitBlue self-desig...         Blue   \n",
       "4  Brown and off-white printed casual shirt, has ...        White   \n",
       "\n",
       "                                   DescriptionVector  \n",
       "0  [0.027645748, -0.0026341842, -0.0035884231, 0....  \n",
       "1  [-0.024660734, -0.028755423, -0.020332452, 0.0...  \n",
       "2  [-0.046943296, 0.08182791, 0.048335195, -0.000...  \n",
       "3  [-0.0150987785, -0.0102855, 0.00948732, -0.023...  \n",
       "4  [-0.017746517, 0.0062095528, 0.02181398, 0.026...  "
      ]
     },
     "execution_count": 9,
     "metadata": {},
     "output_type": "execute_result"
    }
   ],
   "source": [
    "df.head()"
   ]
  },
  {
   "cell_type": "code",
   "execution_count": 15,
   "metadata": {},
   "outputs": [
    {
     "data": {
      "text/plain": [
       "True"
      ]
     },
     "execution_count": 15,
     "metadata": {},
     "output_type": "execute_result"
    }
   ],
   "source": [
    "es.ping()"
   ]
  },
  {
   "cell_type": "markdown",
   "metadata": {},
   "source": [
    "## create new index in elastic search!"
   ]
  },
  {
   "cell_type": "code",
   "execution_count": 18,
   "metadata": {},
   "outputs": [
    {
     "data": {
      "text/plain": [
       "ObjectApiResponse({'acknowledged': True, 'shards_acknowledged': True, 'index': 'all_products'})"
      ]
     },
     "execution_count": 18,
     "metadata": {},
     "output_type": "execute_result"
    }
   ],
   "source": [
    "from indexMapping import indexMapping\n",
    "es.indices.create(index = \"all_products\",mappings = indexMapping)"
   ]
  },
  {
   "cell_type": "markdown",
   "metadata": {},
   "source": [
    "## injest the data into index"
   ]
  },
  {
   "cell_type": "code",
   "execution_count": 19,
   "metadata": {},
   "outputs": [],
   "source": [
    "record_list = df.to_dict(\"records\")"
   ]
  },
  {
   "cell_type": "code",
   "execution_count": 20,
   "metadata": {},
   "outputs": [
    {
     "data": {
      "text/plain": [
       "{'ProductID': 10017413,\n",
       " 'ProductName': 'DKNY Unisex Black & Grey Printed Medium Trolley Bag',\n",
       " 'ProductBrand': 'DKNY',\n",
       " 'Gender': 'Unisex',\n",
       " 'Price (INR)': 11745,\n",
       " 'NumImages': 7,\n",
       " 'Description': 'Black and grey printed medium trolley bag, secured with a TSA lockOne handle on the top and one on the side, has a trolley with a retractable handle on the top and four corner mounted inline skate wheelsOne main zip compartment, zip lining, two compression straps with click clasps, one zip compartment on the flap with three zip pocketsWarranty: 5 yearsWarranty provided by Brand Owner / Manufacturer',\n",
       " 'PrimaryColor': ' Black',\n",
       " 'DescriptionVector': array([ 2.76457481e-02, -2.63418420e-03, -3.58842313e-03,  5.13588227e-02,\n",
       "         3.09660006e-02,  1.40507007e-02,  7.27052568e-03,  3.13871726e-02,\n",
       "        -6.23787753e-02, -3.82877584e-03,  3.15214507e-02,  7.55473226e-02,\n",
       "         2.12644227e-03,  4.64894176e-02,  5.07448912e-02, -1.71941910e-02,\n",
       "         1.22891720e-02, -1.95682552e-02, -9.64853615e-02,  3.52684245e-03,\n",
       "        -1.83509775e-02,  2.58225277e-02, -3.12243327e-02,  5.46113513e-02,\n",
       "         2.11240891e-02,  8.97157751e-03,  1.99166369e-02,  2.25222800e-02,\n",
       "         5.33213746e-03, -5.24596795e-02,  2.56654788e-02, -2.64643766e-02,\n",
       "         1.60459112e-02, -2.47584488e-02,  1.45433376e-06, -5.99339195e-02,\n",
       "        -4.21298072e-02, -5.82056632e-03, -1.85586084e-02, -6.88409507e-02,\n",
       "         4.52963226e-02,  7.06154807e-03,  3.00954916e-02, -7.18990564e-02,\n",
       "         2.67853215e-02, -6.78084195e-02,  1.52006531e-02,  7.82434419e-02,\n",
       "        -3.86550277e-02, -1.53426798e-02,  3.39755975e-02,  1.37781845e-02,\n",
       "        -1.47243040e-02, -2.74836808e-03,  2.31591184e-02, -4.98684943e-02,\n",
       "        -5.12831006e-03,  5.24752252e-02,  1.36131262e-02, -1.93231981e-02,\n",
       "        -2.72570122e-02,  4.11068387e-02,  4.80893552e-02, -2.70954352e-02,\n",
       "         4.11908887e-02,  4.60447408e-02, -6.37177154e-02,  1.31805865e-02,\n",
       "         1.30289816e-03,  4.09117267e-02,  6.41552880e-02, -4.79834005e-02,\n",
       "         1.10392377e-03,  7.25233257e-02, -7.42448319e-05,  2.57205334e-03,\n",
       "         2.96355058e-02,  2.96354350e-02,  1.66540332e-02,  1.16770165e-02,\n",
       "        -4.72042076e-02,  6.52726293e-02, -5.69466949e-02,  5.62868603e-02,\n",
       "         2.87739541e-02,  3.27831395e-02,  2.21507568e-02,  2.87625249e-02,\n",
       "         9.41021089e-03, -2.78682485e-02,  5.07254573e-03, -1.35145914e-02,\n",
       "         2.92994212e-02,  1.73486788e-02, -7.76370056e-03, -8.01693946e-02,\n",
       "         5.42522706e-02, -5.81912026e-02,  3.02955601e-02, -2.88304705e-02,\n",
       "         1.04824696e-02,  4.99632135e-02, -1.98192969e-02,  2.69691530e-03,\n",
       "        -5.78302285e-03,  3.49554457e-02, -1.04185324e-02, -1.53070176e-03,\n",
       "        -8.06271583e-02,  3.73889357e-02,  2.62705702e-02, -2.40432937e-02,\n",
       "        -4.65658940e-02,  3.46576795e-02, -3.50580327e-02,  2.76909620e-02,\n",
       "        -1.99475996e-02,  2.66633648e-02,  3.83039005e-02, -3.57967522e-03,\n",
       "        -1.11199915e-02, -3.43021303e-02, -5.00615761e-02, -2.43414706e-03,\n",
       "         2.01843847e-02, -4.51828688e-02, -4.48808484e-02, -4.15879972e-02,\n",
       "        -1.21018020e-02,  4.56552953e-02, -4.09716666e-02,  3.33761908e-02,\n",
       "         4.05118875e-02, -1.42122321e-02, -2.18981151e-02,  2.38488447e-02,\n",
       "        -3.59017663e-02, -3.51187289e-02, -5.59869036e-02, -2.04212554e-02,\n",
       "        -1.90286164e-03, -2.63333395e-02,  6.62032794e-03,  2.82202084e-02,\n",
       "        -3.89377773e-02, -3.85373272e-02,  3.99999283e-02,  3.73886316e-03,\n",
       "        -3.34511623e-02, -6.12203144e-02, -7.10493848e-02,  1.82614196e-02,\n",
       "         4.99360748e-02, -1.96537916e-02,  3.62079963e-02,  1.36306258e-02,\n",
       "         3.72649133e-02, -1.86513010e-02, -2.54692771e-02,  1.35054197e-02,\n",
       "         2.56374907e-02, -2.38315128e-02, -2.21329480e-02,  2.39102333e-03,\n",
       "        -5.98022491e-02, -2.13336032e-02, -9.58671048e-03, -6.31961320e-03,\n",
       "        -3.08500770e-02, -1.75865144e-02, -1.89545937e-02, -3.34730037e-02,\n",
       "        -2.12756661e-03, -3.45619675e-03, -1.71547998e-02,  7.40247816e-02,\n",
       "         3.30878003e-03, -5.94480596e-02, -4.20914330e-02, -4.85308981e-03,\n",
       "        -1.24044446e-02, -1.11631170e-01,  5.64272031e-02, -7.50041474e-03,\n",
       "        -2.17742333e-03, -8.79488885e-03, -5.20491507e-03,  2.68775714e-03,\n",
       "        -1.67976879e-02, -6.23680018e-02,  3.14837657e-02, -3.52155641e-02,\n",
       "         8.10609758e-02,  3.64166871e-02,  9.73822665e-04, -3.69658880e-02,\n",
       "         2.52889958e-03, -7.46890381e-02,  8.42568092e-03, -1.65020302e-02,\n",
       "        -7.72046670e-02, -1.85622275e-02,  5.66544803e-03, -1.47190783e-02,\n",
       "        -1.65353473e-02,  4.13800776e-02, -2.33763829e-02,  9.85993352e-03,\n",
       "        -5.00025526e-02,  4.48245648e-03,  3.75415087e-02,  2.56804731e-02,\n",
       "        -2.02892278e-03, -5.84917106e-02, -1.47917671e-02, -1.84915017e-03,\n",
       "         2.87932269e-02, -2.44093481e-02,  1.05892532e-02,  4.51088585e-02,\n",
       "         6.12144805e-02,  1.33142928e-02,  5.87449707e-02, -1.59003790e-02,\n",
       "         4.00180258e-02,  1.64473373e-02,  1.43470196e-02, -2.68045757e-02,\n",
       "         7.16699734e-02,  8.84743594e-03, -6.41266629e-03,  1.15744327e-03,\n",
       "        -3.68434265e-02,  2.93019768e-02, -3.14094052e-02, -6.79299328e-03,\n",
       "         8.94473270e-02,  5.99377081e-02, -8.24592356e-03,  2.58782376e-02,\n",
       "        -4.22716886e-02,  1.91917140e-02,  2.88773561e-04,  4.13904851e-03,\n",
       "        -5.83746061e-02,  6.08170405e-02, -3.75354663e-02, -3.70272398e-02,\n",
       "        -6.11730153e-03, -1.42939240e-02, -8.24468117e-03,  1.60575809e-03,\n",
       "         3.51403952e-02, -1.88068375e-02, -2.16341540e-02, -5.51068671e-02,\n",
       "        -5.03754057e-03,  3.81737836e-02,  2.06449274e-02,  2.99777091e-03,\n",
       "         2.01757960e-02, -8.43662210e-03,  3.04710725e-03, -2.86367722e-03,\n",
       "         5.25487773e-02,  1.00488309e-03,  5.10405451e-02,  9.56343114e-03,\n",
       "         1.99479200e-02, -3.06443237e-02, -6.84500160e-03, -1.10091893e-02,\n",
       "         1.72649678e-02, -9.95550957e-03, -1.40040750e-02, -4.78949435e-02,\n",
       "         4.48318236e-02,  2.99805612e-03, -5.05883759e-03, -1.37886973e-02,\n",
       "        -1.93420760e-02, -2.25321706e-02, -4.01583388e-02, -2.50679869e-02,\n",
       "        -1.73990652e-02,  7.81957898e-03, -4.38656583e-02,  1.10516949e-02,\n",
       "        -5.72629971e-03,  2.99919005e-02, -4.39988263e-02, -4.39060212e-04,\n",
       "        -6.25562668e-03, -3.10894866e-02,  1.94589105e-02, -2.74247658e-02,\n",
       "        -9.93123837e-03, -4.21830304e-02,  2.52597071e-02,  2.97782421e-02,\n",
       "         4.61616367e-03, -3.88785191e-02, -3.68001722e-02,  8.19745660e-03,\n",
       "        -1.57790293e-03, -3.11229867e-03,  2.27060970e-02, -3.63274291e-02,\n",
       "        -2.32266635e-02,  3.96532044e-02, -1.75962541e-02,  7.61344424e-03,\n",
       "        -4.49806526e-02, -9.71956626e-02,  6.55064359e-03, -4.07042019e-02,\n",
       "        -4.23453711e-02,  2.21426357e-02, -1.69916470e-02,  9.62368697e-02,\n",
       "        -4.27953489e-02,  2.88663022e-02,  3.25763412e-02, -1.60414223e-02,\n",
       "        -2.20178757e-02, -4.18678597e-02, -6.52636215e-02, -2.43135970e-02,\n",
       "         3.35064270e-02, -2.17000097e-02,  4.89502922e-02, -3.22210751e-02,\n",
       "         5.66819608e-02,  3.94778550e-02, -6.04453050e-02, -8.55642185e-02,\n",
       "        -4.11012582e-02, -5.89909218e-03,  4.48788293e-02,  3.86384055e-02,\n",
       "         2.37329621e-02, -3.74440127e-03, -7.40810065e-03, -3.48128639e-02,\n",
       "        -1.26407882e-02, -8.32106471e-02, -7.77609413e-03,  8.23973969e-04,\n",
       "        -2.08234973e-02,  4.96369787e-03,  1.02757309e-02,  7.34596923e-02,\n",
       "         4.56727929e-02, -1.11290673e-02, -8.89131217e-04,  3.50867547e-02,\n",
       "        -5.21533366e-04,  3.29105817e-02,  3.92490923e-02,  9.39375442e-03,\n",
       "        -3.05089373e-02,  1.42533686e-02, -1.87921774e-04,  1.48091596e-02,\n",
       "         3.88667881e-02,  2.09766589e-02,  1.69475656e-02,  6.42409921e-02,\n",
       "         1.02789253e-02,  1.05284508e-02,  4.56123352e-02,  4.24702801e-02,\n",
       "         3.24788652e-02,  3.20181735e-02, -2.87148189e-02, -7.86699634e-03,\n",
       "         9.84598231e-03,  4.08065096e-02, -1.92640424e-02, -6.10289956e-03,\n",
       "         5.00562713e-02,  1.64055526e-02,  4.35196720e-02, -1.09658428e-02,\n",
       "         3.21553499e-02, -3.21290009e-02,  4.05223249e-03, -1.42193176e-02,\n",
       "        -1.72177460e-02, -2.24060100e-02,  3.41359377e-02,  1.79261975e-02,\n",
       "        -8.28829501e-03,  5.04023917e-02, -3.55287939e-02,  2.78953370e-02,\n",
       "         2.46795919e-03, -2.67913216e-03, -3.25404443e-02,  1.17414864e-02,\n",
       "        -2.00906973e-02,  4.24937047e-02,  3.08379754e-02,  1.66973639e-02,\n",
       "         3.07388604e-02, -4.58765365e-02, -5.39882760e-03,  1.92522276e-02,\n",
       "        -2.37641167e-02, -4.52495813e-02, -3.50061543e-02, -6.26830291e-03,\n",
       "        -3.49792577e-02,  6.37186170e-02, -4.95001487e-02, -8.27830508e-02,\n",
       "         2.43395311e-03, -7.25408196e-02,  5.77692576e-02, -3.55351083e-02,\n",
       "         1.10682333e-03,  7.00692413e-04, -2.26267837e-02,  1.01695210e-02,\n",
       "         1.71284676e-02, -1.74753889e-02, -3.18570547e-02, -6.42487332e-02,\n",
       "        -3.10206097e-02, -3.18854079e-02,  3.82462218e-02,  3.10538393e-02,\n",
       "        -2.99190413e-02,  1.83081906e-02, -5.88304438e-02, -2.38676202e-02,\n",
       "         3.73598002e-02,  2.49049217e-02, -6.08942285e-02, -8.83548800e-03,\n",
       "        -4.21162732e-02, -4.55483869e-02, -1.47924731e-02, -2.38329060e-02,\n",
       "        -4.74838493e-03, -4.89295945e-02, -1.93931032e-02, -4.01563197e-02,\n",
       "        -8.04097671e-03, -7.47549906e-02,  2.10537389e-03,  1.64750144e-02,\n",
       "         8.30393881e-02,  1.55175570e-02,  4.70302626e-02, -4.48355787e-02,\n",
       "         5.50825596e-02, -7.38568306e-02, -3.09090763e-02,  1.67553369e-02,\n",
       "         5.06773852e-02,  2.49253362e-02, -7.24061877e-02,  3.98999006e-02,\n",
       "         2.13701208e-03, -1.89518929e-02, -1.86338034e-02,  1.30080301e-02,\n",
       "         1.97984017e-02, -3.67519967e-02, -4.02529314e-02, -4.21345886e-03,\n",
       "        -1.62019506e-02, -3.34677473e-03,  4.09932211e-02, -2.45060083e-02,\n",
       "        -1.03827426e-02, -4.73151729e-02,  5.08268178e-02, -5.92380576e-03,\n",
       "        -3.16178572e-04, -6.27377210e-03,  1.60506647e-02,  1.63368955e-02,\n",
       "         2.72356160e-02,  2.05410887e-02,  2.15954725e-02, -1.16071058e-02,\n",
       "         1.46542545e-02, -5.12825139e-02,  1.71000436e-02, -6.01726025e-02,\n",
       "        -1.86471269e-02, -1.95505582e-02,  5.43011315e-02,  1.48305148e-01,\n",
       "         6.39533848e-02, -4.22860542e-03,  2.49035992e-02, -5.27663454e-02,\n",
       "         8.22671130e-03,  3.78340185e-02, -6.19617384e-03, -3.93908098e-02,\n",
       "         3.58749293e-02,  1.18882423e-02,  2.66932417e-02,  1.62879191e-02,\n",
       "         6.09422363e-02, -1.60511546e-02,  3.50212154e-04,  2.91721635e-02,\n",
       "        -7.17698596e-03, -2.95377690e-02,  6.30705133e-02,  5.02149612e-02,\n",
       "        -5.33038452e-02, -9.42943152e-03,  1.98485013e-02, -2.10123397e-02,\n",
       "         3.09327859e-02, -1.42165376e-02,  3.32838409e-02,  2.94383392e-02,\n",
       "         1.26157356e-02,  4.95138764e-02,  1.15884412e-02,  2.58324249e-03,\n",
       "         4.47753035e-02,  5.12729250e-02, -2.06901692e-02, -8.23473837e-03,\n",
       "        -7.23880250e-03,  1.32842427e-02, -5.08004278e-02,  7.57654011e-02,\n",
       "        -8.74614120e-02,  4.24297601e-02,  1.12237614e-02,  9.69063549e-05,\n",
       "        -4.58215922e-02, -1.55913187e-02,  2.53332071e-02, -5.37825422e-03,\n",
       "        -3.63471656e-04,  3.69623043e-02, -4.63642739e-02, -1.23735634e-03,\n",
       "         5.76702058e-02, -7.09539279e-02,  1.54587394e-02, -6.11974746e-02,\n",
       "        -1.10918976e-01, -3.09233204e-03,  2.27634739e-02, -4.78636578e-33,\n",
       "         3.12271006e-02, -6.63603544e-02, -2.36832052e-02,  2.42750868e-02,\n",
       "        -2.04057200e-03, -4.47725691e-03,  4.22917167e-03, -4.12166119e-03,\n",
       "        -3.53075340e-02, -2.23746598e-02,  1.80853643e-02, -3.13036866e-03,\n",
       "         3.27593498e-02,  4.38898429e-03,  6.06583245e-02,  1.11367861e-02,\n",
       "         2.70507801e-02, -7.78132631e-03, -6.00762432e-03, -2.07057465e-02,\n",
       "        -3.77762318e-02, -9.80802253e-03,  4.01680768e-02,  3.02954689e-02,\n",
       "         5.43257035e-02, -9.85897481e-02, -2.94541637e-03,  2.91571412e-02,\n",
       "         3.44493389e-02, -8.56010057e-03, -7.64997378e-02,  2.66987272e-03,\n",
       "         2.50923969e-02,  3.52499820e-02,  5.67993149e-02,  2.29065511e-02,\n",
       "         5.05905971e-02, -4.30481620e-02,  3.37688364e-02,  9.36796423e-03,\n",
       "         1.14865350e-02, -5.23018353e-02, -1.63467340e-02, -1.74133964e-02,\n",
       "        -8.21438371e-05,  6.74257381e-03, -3.11616883e-02,  3.66181098e-02,\n",
       "        -3.53261381e-02,  1.54254735e-02,  6.49727434e-02,  1.90679748e-02,\n",
       "        -2.05426048e-02, -1.29935425e-02,  3.07241455e-02,  3.60370390e-02,\n",
       "        -7.30986381e-03, -3.42609286e-02,  3.69405709e-02, -1.68614965e-02,\n",
       "        -6.95912391e-02, -3.51376347e-02, -1.96793489e-02, -2.16357969e-02,\n",
       "        -1.91740207e-02, -7.22264312e-03, -9.27114580e-03,  3.80432084e-02,\n",
       "        -7.26441219e-02, -3.93157266e-02,  3.23980086e-04, -1.54596390e-02,\n",
       "        -5.66323474e-02, -2.86028478e-02, -3.38706821e-02, -8.40217993e-03,\n",
       "         3.27711664e-02, -1.23574696e-02,  5.67502938e-02,  1.07323535e-01,\n",
       "         1.62485451e-03,  1.98508073e-02, -4.92325984e-02,  4.31433320e-03,\n",
       "        -2.76763104e-02, -3.61421332e-02,  2.83705220e-02, -3.32535990e-02,\n",
       "         6.01910539e-02,  7.16077769e-03, -3.21195200e-02,  1.00305706e-01,\n",
       "         2.48313155e-02,  3.09538301e-02, -1.87181332e-03, -1.96664054e-02,\n",
       "         2.54116245e-02,  2.17062011e-02, -1.50588425e-02,  9.17004887e-03,\n",
       "         3.92964156e-03,  5.89960329e-02, -3.26567739e-02, -7.23022595e-02,\n",
       "         4.42397818e-02, -8.09965935e-03,  3.66033316e-02, -6.47037895e-03,\n",
       "        -5.15290312e-02,  5.74737936e-02,  3.27605456e-02, -3.47868800e-02,\n",
       "         1.15351728e-03, -5.10836095e-02, -2.02768459e-03, -1.37376459e-02,\n",
       "        -2.26375042e-03, -1.46535616e-02,  2.56580003e-02, -3.41950320e-02,\n",
       "         3.11360434e-02,  1.11530796e-02, -2.26283222e-02, -1.86155637e-04,\n",
       "        -3.42383385e-02, -3.47214076e-03,  7.12005887e-03,  2.85438392e-02,\n",
       "         3.43615822e-02,  4.17478047e-02,  1.46220848e-02, -1.00900298e-02,\n",
       "         2.19874821e-07,  1.26059909e-04, -3.26405503e-02,  2.73181330e-02,\n",
       "        -4.31561917e-02,  6.41152309e-03,  3.25418217e-03,  2.88379728e-03,\n",
       "         1.68630593e-02, -3.92213883e-03, -3.99217606e-02, -2.82339398e-02,\n",
       "         6.63920538e-03,  9.65186395e-03, -6.46899745e-04,  8.58047679e-02,\n",
       "        -5.46624847e-02,  9.56460983e-02, -3.35841477e-02, -3.86988819e-02,\n",
       "         1.08061032e-02,  8.10266435e-02,  4.47366806e-03,  5.54964356e-02,\n",
       "         2.06635352e-02, -1.76942851e-02, -7.89711997e-02, -9.13334638e-03,\n",
       "        -5.91490045e-02, -1.78458858e-02, -2.83569377e-02,  2.71815341e-02,\n",
       "         2.92243827e-02, -4.04384732e-02, -2.55332123e-02,  1.53778754e-02,\n",
       "         1.23813292e-02,  2.65147164e-02,  4.36860584e-02,  7.80087784e-02,\n",
       "         1.78202875e-02, -3.01126726e-02,  1.06307045e-02, -5.10761999e-02,\n",
       "        -1.62147824e-02,  2.78100967e-02,  5.96089475e-02, -1.07442653e-02,\n",
       "         5.74155077e-02, -4.65736836e-02,  4.81012883e-03,  3.75613347e-02,\n",
       "        -2.49797851e-02,  1.24980668e-02,  3.64437141e-02, -1.03775375e-02,\n",
       "         3.94603647e-02,  5.78910783e-02, -5.18748909e-02, -1.85876917e-02,\n",
       "        -3.52989510e-03, -2.97394637e-02,  4.59078886e-02,  1.81116443e-03,\n",
       "         8.85505415e-03,  5.07806167e-02,  4.10653651e-03,  5.75005030e-03,\n",
       "         1.64168565e-34, -4.68513323e-03, -6.60455786e-03,  2.19718087e-02,\n",
       "        -4.97995280e-02,  2.23751869e-02,  8.27575335e-04,  6.58981651e-02,\n",
       "        -3.05624884e-02,  8.99445359e-03, -3.16481143e-02, -3.01022530e-02],\n",
       "       dtype=float32)}"
      ]
     },
     "execution_count": 20,
     "metadata": {},
     "output_type": "execute_result"
    }
   ],
   "source": [
    "record_list[0]"
   ]
  },
  {
   "cell_type": "code",
   "execution_count": 21,
   "metadata": {},
   "outputs": [],
   "source": [
    "for record in record_list:\n",
    "    try:\n",
    "        es.index(index = \"all_products\",document = record,id = record[\"ProductID\"])\n",
    "    except Exception as e:\n",
    "        print(e)"
   ]
  },
  {
   "cell_type": "code",
   "execution_count": 22,
   "metadata": {},
   "outputs": [
    {
     "data": {
      "text/plain": [
       "ObjectApiResponse({'count': 500, '_shards': {'total': 1, 'successful': 1, 'skipped': 0, 'failed': 0}})"
      ]
     },
     "execution_count": 22,
     "metadata": {},
     "output_type": "execute_result"
    }
   ],
   "source": [
    "es.count(index = \"all_products\")"
   ]
  },
  {
   "cell_type": "markdown",
   "metadata": {},
   "source": [
    "## search the data"
   ]
  },
  {
   "cell_type": "code",
   "execution_count": 24,
   "metadata": {},
   "outputs": [
    {
     "name": "stderr",
     "output_type": "stream",
     "text": [
      "/var/folders/q3/k2msdb912j7_3txnb0w6bx_c0000gn/T/ipykernel_3563/2566722302.py:11: ElasticsearchWarning: The kNN search API has been replaced by the `knn` option in the search API.\n",
      "  res = es.knn_search(index = \"all_products\",knn = query,source = [\"ProductName\",\"Description\"])\n"
     ]
    },
    {
     "data": {
      "text/plain": [
       "[{'_index': 'all_products',\n",
       "  '_id': '10018013',\n",
       "  '_score': 0.52967405,\n",
       "  '_source': {'ProductName': 'Puma Men Blue Sneakers',\n",
       "   'Description': 'A pair of round-toe blue sneakers, has regular styling, lace-up detailTextile upperCushioned footbedTextured and patterned outsoleWarranty: 3 monthsWarranty provided by brand/manufacturer'}},\n",
       " {'_index': 'all_products',\n",
       "  '_id': '10018075',\n",
       "  '_score': 0.52967405,\n",
       "  '_source': {'ProductName': 'Puma Men Blue Sneakers',\n",
       "   'Description': 'A pair of round-toe blue sneakers, has regular styling, lace-up detailTextile upperCushioned footbedTextured and patterned outsoleWarranty: 3 monthsWarranty provided by brand/manufacturer'}}]"
      ]
     },
     "execution_count": 24,
     "metadata": {},
     "output_type": "execute_result"
    }
   ],
   "source": [
    "input_keyword = \"Blue_shoes\"\n",
    "vector_of_input_keyword = model.encode(input_keyword)\n",
    "\n",
    "query = {\n",
    "    \"field\" : \"DescriptionVector\",\n",
    "    \"query_vector\" : vector_of_input_keyword,\n",
    "    \"k\" : 2,\n",
    "    \"num_candidates\":500,\n",
    "\n",
    "}\n",
    "res = es.knn_search(index = \"all_products\",knn = query,source = [\"ProductName\",\"Description\"])\n",
    "res[\"hits\"][\"hits\"]"
   ]
  },
  {
   "cell_type": "code",
   "execution_count": null,
   "metadata": {},
   "outputs": [],
   "source": []
  }
 ],
 "metadata": {
  "kernelspec": {
   "display_name": "venv",
   "language": "python",
   "name": "python3"
  },
  "language_info": {
   "codemirror_mode": {
    "name": "ipython",
    "version": 3
   },
   "file_extension": ".py",
   "mimetype": "text/x-python",
   "name": "python",
   "nbconvert_exporter": "python",
   "pygments_lexer": "ipython3",
   "version": "3.10.4"
  }
 },
 "nbformat": 4,
 "nbformat_minor": 2
}
